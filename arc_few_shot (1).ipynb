{
  "metadata": {
    "kernelspec": {
      "language": "python",
      "display_name": "Python 3",
      "name": "python3"
    },
    "language_info": {
      "name": "python",
      "version": "3.7.12",
      "mimetype": "text/x-python",
      "codemirror_mode": {
        "name": "ipython",
        "version": 3
      },
      "pygments_lexer": "ipython3",
      "nbconvert_exporter": "python",
      "file_extension": ".py"
    },
    "colab": {
      "name": "arc_few_shot.ipynb",
      "provenance": [],
      "collapsed_sections": []
    }
  },
  "nbformat_minor": 0,
  "nbformat": 4,
  "cells": [
    {
      "cell_type": "markdown",
      "source": [
        ""
      ],
      "metadata": {
        "id": "CPBxU_D0lYPV"
      }
    },
    {
      "cell_type": "code",
      "source": [
        "!pip install -q --upgrade --force-reinstall --no-deps kaggle"
      ],
      "metadata": {
        "id": "E5Ms37a5QPJR",
        "outputId": "f6bb802f-3868-4e66-eea7-9f8fe447342a",
        "colab": {
          "base_uri": "https://localhost:8080/"
        }
      },
      "execution_count": 1,
      "outputs": [
        {
          "output_type": "stream",
          "name": "stdout",
          "text": [
            "\u001b[?25l\r\u001b[K     |█████▋                          | 10 kB 24.1 MB/s eta 0:00:01\r\u001b[K     |███████████▏                    | 20 kB 27.0 MB/s eta 0:00:01\r\u001b[K     |████████████████▊               | 30 kB 13.6 MB/s eta 0:00:01\r\u001b[K     |██████████████████████▎         | 40 kB 10.7 MB/s eta 0:00:01\r\u001b[K     |███████████████████████████▉    | 51 kB 6.0 MB/s eta 0:00:01\r\u001b[K     |████████████████████████████████| 58 kB 2.9 MB/s \n",
            "\u001b[?25h  Building wheel for kaggle (setup.py) ... \u001b[?25l\u001b[?25hdone\n"
          ]
        }
      ]
    },
    {
      "cell_type": "code",
      "source": [
        "from google.colab import files"
      ],
      "metadata": {
        "id": "-n6Ktm9eQUDW"
      },
      "execution_count": 2,
      "outputs": []
    },
    {
      "cell_type": "code",
      "source": [
        "import numpy as np\n",
        "import pandas as pd\n",
        "import json, os\n",
        "import matplotlib.pyplot as plt \n",
        "from matplotlib import colors\n",
        "from PIL import Image\n",
        "import io\n",
        "import random\n",
        "import copy\n",
        "import pickle"
      ],
      "metadata": {
        "id": "Va8MDpQIRYrQ"
      },
      "execution_count": 3,
      "outputs": []
    },
    {
      "cell_type": "code",
      "source": [
        "files.upload()"
      ],
      "metadata": {
        "id": "gXFQqhW8QYhb",
        "colab": {
          "resources": {
            "http://localhost:8080/nbextensions/google.colab/files.js": {
              "data": "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",
              "ok": true,
              "headers": [
                [
                  "content-type",
                  "application/javascript"
                ]
              ],
              "status": 200,
              "status_text": ""
            }
          },
          "base_uri": "https://localhost:8080/",
          "height": 55
        },
        "outputId": "72c5f1d4-109f-4115-ba59-00320b62d7a9"
      },
      "execution_count": null,
      "outputs": [
        {
          "output_type": "display_data",
          "data": {
            "text/plain": [
              "<IPython.core.display.HTML object>"
            ],
            "text/html": [
              "\n",
              "     <input type=\"file\" id=\"files-ec84de26-2730-4fd0-871e-ff24c286dea9\" name=\"files[]\" multiple disabled\n",
              "        style=\"border:none\" />\n",
              "     <output id=\"result-ec84de26-2730-4fd0-871e-ff24c286dea9\">\n",
              "      Upload widget is only available when the cell has been executed in the\n",
              "      current browser session. Please rerun this cell to enable.\n",
              "      </output>\n",
              "      <script src=\"/nbextensions/google.colab/files.js\"></script> "
            ]
          },
          "metadata": {}
        }
      ]
    },
    {
      "cell_type": "code",
      "source": [
        "class ARC():\n",
        "    def __init__(self,trn_dir='./training_orig/',tes_dir='./test_eval/'):\n",
        "        pass\n",
        "    def plot_task(self,task,kind='orig',show=True,ways=4):\n",
        "        # Call with ways=4 for padded case and ways=6 for unpadded case\n",
        "        n = len(task[\"train\"]) + len(task[\"test\"])\n",
        "        if kind=='orig':fig, axs = plt.subplots(2, n, figsize=(4*n,8), dpi=50)\n",
        "        elif kind=='fewshot': fig, axs = plt.subplots(ways+1, n, figsize=(6*n,12), dpi=100)\n",
        "        plt.subplots_adjust(wspace=0, hspace=0)\n",
        "        fig_num = 0\n",
        "        cmap=self.cmap\n",
        "        norm=self.norm\n",
        "        for i, t in enumerate(task[\"train\"]):\n",
        "            if kind=='fewshot':t_in, t_out = np.array(t[\"input\"]), t[\"output\"]\n",
        "            elif kind=='orig':t_in, t_out = np.array(t[\"input\"]), np.array(t[\"output\"])\n",
        "            axs[0][fig_num].imshow(t_in, cmap=cmap, norm=norm)\n",
        "            axs[0][fig_num].set_title(f'Train-{i} in')\n",
        "            # axs[0][fig_num].set_yticks(list(range(t_in.shape[0])))\n",
        "            # axs[0][fig_num].set_xticks(list(range(t_in.shape[1])))\n",
        "            if kind=='orig':\n",
        "                axs[1][fig_num].imshow(t_out, cmap=cmap, norm=norm)\n",
        "                axs[1][fig_num].set_title(f'Train-{i} out')\n",
        "                # axs[1][fig_num].set_yticks(list(range(t_out.shape[0])))\n",
        "                # axs[1][fig_num].set_xticks(list(range(t_out.shape[1])))\n",
        "            elif kind=='fewshot':\n",
        "                for j in range(ways):\n",
        "                    if j==t['label']: iscorrect='CORRECT'\n",
        "                    else: iscorrect=''\n",
        "                    axs[j+1][fig_num].imshow(np.array(t_out[j]), cmap=cmap, norm=norm)\n",
        "                    axs[j+1][fig_num].set_title(f'Out-{i},{j} '+iscorrect)\n",
        "                    # axs[j+1][fig_num].set_yticks(list(range(np.array(t_out[j]).shape[0])))\n",
        "                    # axs[j+1][fig_num].set_xticks(list(range(np.array(t_out[j]).shape[1])))\n",
        "            fig_num += 1\n",
        "        for i, t in enumerate(task[\"test\"]):\n",
        "            if kind=='fewshot':t_in, t_out = np.array(t[\"input\"]), t[\"output\"]\n",
        "            elif kind=='orig':t_in, t_out = np.array(t[\"input\"]), np.array(t[\"output\"])\n",
        "            axs[0][fig_num].imshow(t_in, cmap=cmap, norm=norm)\n",
        "            axs[0][fig_num].set_title(f'Test-{i} in')\n",
        "            # axs[0][fig_num].set_yticks(list(range(t_in.shape[0])))\n",
        "            # axs[0][fig_num].set_xticks(list(range(t_in.shape[1])))\n",
        "            if kind=='orig' and show:\n",
        "                axs[1][fig_num].imshow(t_out, cmap=cmap, norm=norm)\n",
        "                axs[1][fig_num].set_title(f'Test-{i} out')\n",
        "                # axs[1][fig_num].set_yticks(list(range(t_out.shape[0])))\n",
        "                # axs[1][fig_num].set_xticks(list(range(t_out.shape[1])))\n",
        "            elif kind=='fewshot' and show:\n",
        "                for j in range(ways):\n",
        "                    if j==t['label']: iscorrect='CORRECT'\n",
        "                    else: iscorrect=''\n",
        "                    axs[j+1][fig_num].imshow(np.array(t_out[j]), cmap=cmap, norm=norm)\n",
        "                    axs[j+1][fig_num].set_title(f'Test-{i},{j} '+iscorrect)\n",
        "                    # axs[j+1][fig_num].set_yticks(list(range(np.array(t_out[j]).shape[0])))\n",
        "                    # axs[j+1][fig_num].set_xticks(list(range(np.array(t_out[j]).shape[1])))\n",
        "            fig_num += 1\n",
        "        plt.tight_layout()\n",
        "        plt.show()\n",
        "    def example2img(self,example):\n",
        "        shp=np.array(example).shape\n",
        "        fig=plt.Figure(figsize=(.5*shp[0],.5*shp[1]))\n",
        "        ax = fig.add_subplot()\n",
        "        cmap,norm=self.cmap,self.norm\n",
        "        ax.imshow(np.array(example), cmap=cmap, norm=norm)\n",
        "        \"\"\"Convert a Matplotlib figure to a PIL Image and return it\"\"\"\n",
        "        buf = io.BytesIO()\n",
        "        fig.savefig(buf)\n",
        "        buf.seek(0)\n",
        "        img = Image.open(buf)\n",
        "        return img\n",
        "    def example2numpy(self,example):\n",
        "        return np.array(example)"
      ],
      "metadata": {
        "execution": {
          "iopub.status.busy": "2022-01-31T11:00:48.596395Z",
          "iopub.execute_input": "2022-01-31T11:00:48.5976Z",
          "iopub.status.idle": "2022-01-31T11:00:48.628387Z",
          "shell.execute_reply.started": "2022-01-31T11:00:48.597536Z",
          "shell.execute_reply": "2022-01-31T11:00:48.627396Z"
        },
        "trusted": true,
        "id": "p_UMq1eqQAzk"
      },
      "execution_count": null,
      "outputs": []
    },
    {
      "cell_type": "code",
      "source": [
        "class FewShotARC(ARC):\n",
        "    def __init__(self,trn_dir='./training_orig/',tes_dir='./test_eval/',ways=6):\n",
        "        super().__init__(trn_dir='./training_orig/',tes_dir='./test_eval/')\n",
        "        self.nrand=ways-1\n",
        "        self.ntrain=len(self.trn_tasks)\n",
        "        self.ntest=len(self.tes_tasks)\n",
        "        self.meta_train_tasks=[]\n",
        "        self.meta_test_tasks=[]\n",
        "    def get_fs_task(self,taskid,kind='meta_train'):\n",
        "        if kind=='meta_train': return self.meta_train_tasks[taskid]\n",
        "        elif kind=='meta_test': return self.meta_test_tasks[taskid]\n",
        "    def get_examples(self,taskid,trte,inout,kind='meta_train'):\n",
        "        if kind=='meta_train':taskL=[self.get_task(taskid,kind) for taskid in self.ntrain]\n",
        "        elif kind=='meta_test':taskL=[self.get_task(taskid,kind) for taskid in self.ntrain]\n",
        "        return [taskL[taskid][trte][k][inout] for k in range(len(taskL[taskid][trte]))]"
      ],
      "metadata": {
        "execution": {
          "iopub.status.busy": "2022-01-31T11:00:58.908841Z",
          "iopub.execute_input": "2022-01-31T11:00:58.909196Z",
          "iopub.status.idle": "2022-01-31T11:00:58.932471Z",
          "shell.execute_reply.started": "2022-01-31T11:00:58.909149Z",
          "shell.execute_reply": "2022-01-31T11:00:58.931555Z"
        },
        "trusted": true,
        "id": "ovwST6CCQAzm"
      },
      "execution_count": null,
      "outputs": []
    },
    {
      "cell_type": "code",
      "source": [
        "class FewShotPaddedARC(ARC):\n",
        "    def __init__(self,trn_dir='./training_orig/',tes_dir='./test_eval/',ways=6):\n",
        "        super().__init__(trn_dir='./training_orig/',tes_dir='./test_eval/')\n",
        "        self.nrand=ways-1\n",
        "        self.ntrain=len(self.trn_tasks)\n",
        "        self.ntest=len(self.tes_tasks)\n",
        "        self.meta_train_tasks=[]\n",
        "        self.meta_test_tasks=[]\n",
        "    def get_fs_task(self,taskid,kind='meta_train'):\n",
        "        if kind=='meta_train': return self.meta_train_tasks[taskid]\n",
        "        elif kind=='meta_test': return self.meta_test_tasks[taskid]\n",
        "    def get_examples(self,taskid,trte,inout,kind='meta_train'):\n",
        "        if kind=='meta_train':taskL=[self.get_task(taskid,kind) for taskid in self.ntrain]\n",
        "        elif kind=='meta_test':taskL=[self.get_task(taskid,kind) for taskid in self.ntrain]\n",
        "        return [taskL[taskid][trte][k][inout] for k in range(len(taskL[taskid][trte]))]"
      ],
      "metadata": {
        "id": "OS-mfVbL4y10"
      },
      "execution_count": null,
      "outputs": []
    },
    {
      "cell_type": "code",
      "source": [
        "with open('./FewShotARC.pickle','rb') as f: a=pickle.load(f)"
      ],
      "metadata": {
        "execution": {
          "iopub.status.busy": "2022-01-31T11:02:36.10071Z",
          "iopub.execute_input": "2022-01-31T11:02:36.101108Z",
          "iopub.status.idle": "2022-01-31T11:02:36.663754Z",
          "shell.execute_reply.started": "2022-01-31T11:02:36.10107Z",
          "shell.execute_reply": "2022-01-31T11:02:36.662709Z"
        },
        "trusted": true,
        "id": "oZu6xSccQAzm"
      },
      "execution_count": null,
      "outputs": []
    },
    {
      "cell_type": "code",
      "source": [
        "a.cmap=colors.ListedColormap(['#000000', '#0074D9','#FF4136','#2ECC40','#FFDC00','#AAAAAA', '#F012BE', '#FF851B', '#7FDBFF', '#870C25'])"
      ],
      "metadata": {
        "id": "CJXNuMGijoZX"
      },
      "execution_count": null,
      "outputs": []
    },
    {
      "cell_type": "code",
      "source": [
        "a.norm=colors.Normalize(vmin=0, vmax=9)"
      ],
      "metadata": {
        "id": "_c_2ReNYjyC8"
      },
      "execution_count": null,
      "outputs": []
    },
    {
      "cell_type": "code",
      "source": [
        "task=a.get_fs_task(11)"
      ],
      "metadata": {
        "execution": {
          "iopub.status.busy": "2022-01-31T11:04:54.686238Z",
          "iopub.execute_input": "2022-01-31T11:04:54.686582Z",
          "iopub.status.idle": "2022-01-31T11:04:54.692288Z",
          "shell.execute_reply.started": "2022-01-31T11:04:54.686549Z",
          "shell.execute_reply": "2022-01-31T11:04:54.690919Z"
        },
        "trusted": true,
        "id": "WNCYWVQyQAzn"
      },
      "execution_count": null,
      "outputs": []
    },
    {
      "cell_type": "code",
      "source": [
        "task['train'][0].keys()"
      ],
      "metadata": {
        "id": "G4V-HkhWlK_F"
      },
      "execution_count": null,
      "outputs": []
    },
    {
      "cell_type": "code",
      "source": [
        "a.plot_task(task,kind='fewshot')"
      ],
      "metadata": {
        "execution": {
          "iopub.status.busy": "2022-01-31T11:05:42.417776Z",
          "iopub.execute_input": "2022-01-31T11:05:42.418102Z",
          "iopub.status.idle": "2022-01-31T11:05:44.986663Z",
          "shell.execute_reply.started": "2022-01-31T11:05:42.41807Z",
          "shell.execute_reply": "2022-01-31T11:05:44.985706Z"
        },
        "trusted": true,
        "id": "PMl9Zvd7QAzn"
      },
      "execution_count": null,
      "outputs": []
    },
    {
      "cell_type": "code",
      "source": [
        "with open('./FewShotPaddedARC.pickle','rb') as f: b=pickle.load(f)"
      ],
      "metadata": {
        "id": "IIA688k16MAx"
      },
      "execution_count": null,
      "outputs": []
    },
    {
      "cell_type": "code",
      "source": [
        "b.cmap=colors.ListedColormap(['#000000', '#0074D9','#FF4136','#2ECC40','#FFDC00','#AAAAAA', '#F012BE', '#FF851B', '#7FDBFF', '#870C25'])"
      ],
      "metadata": {
        "id": "IB9eGinx6RvP"
      },
      "execution_count": null,
      "outputs": []
    },
    {
      "cell_type": "code",
      "source": [
        "b.norm=colors.Normalize(vmin=0, vmax=9)"
      ],
      "metadata": {
        "id": "ANv4gb7I6T_f"
      },
      "execution_count": null,
      "outputs": []
    },
    {
      "cell_type": "code",
      "source": [
        "padded_task=b.get_fs_task(11, kind = \"meta_test\")"
      ],
      "metadata": {
        "id": "uCnF5aohgGem"
      },
      "execution_count": null,
      "outputs": []
    },
    {
      "cell_type": "code",
      "source": [
        "print(padded_task['test'])"
      ],
      "metadata": {
        "id": "SFWcvTDCgHh3"
      },
      "execution_count": null,
      "outputs": []
    },
    {
      "cell_type": "code",
      "source": [
        "b.plot_task(padded_task,kind='fewshot')"
      ],
      "metadata": {
        "id": "cM2qGMx86cZx"
      },
      "execution_count": null,
      "outputs": []
    },
    {
      "cell_type": "markdown",
      "source": [
        "# Preprocessing\n"
      ],
      "metadata": {
        "id": "7NNJykx1faX_"
      }
    },
    {
      "cell_type": "code",
      "source": [
        "!pip install learn2learn --quiet\n",
        "!pip install import_ipynb --quiet"
      ],
      "metadata": {
        "id": "m2JlBY5SfRX5"
      },
      "execution_count": null,
      "outputs": []
    },
    {
      "cell_type": "code",
      "source": [
        "import requests\n",
        "import pickle"
      ],
      "metadata": {
        "id": "QdS2pwXAfcwg"
      },
      "execution_count": null,
      "outputs": []
    },
    {
      "cell_type": "code",
      "source": [
        "#If on colab:\n",
        "r=requests.get(\"https://github.com/gmshroff/metaLearning2022/blob/main/code/utils.ipynb?raw=true\")\n",
        "with open('./utils.ipynb','wb') as f: f.write(r.content)\n",
        "r=requests.get(\"https://github.com/gmshroff/metaLearning2022/blob/main/code/course_data.ipynb?raw=true\")\n",
        "with open('./course_data.ipynb','wb') as f: f.write(r.content)"
      ],
      "metadata": {
        "id": "TIihFdqwfeao"
      },
      "execution_count": null,
      "outputs": []
    },
    {
      "cell_type": "code",
      "source": [
        "\n",
        "r=requests.get(\"https://github.com/gmshroff/metaLearning2022/blob/main/code/l2lutils.ipynb?raw=true\")\n",
        "with open('./l2lutils.ipynb','wb') as f: f.write(r.content)"
      ],
      "metadata": {
        "id": "seRVuih_fgI4"
      },
      "execution_count": null,
      "outputs": []
    },
    {
      "cell_type": "code",
      "source": [
        "from google.colab import drive\n",
        "drive.mount('/content/drive')\n",
        "%ls drive/MyDrive/'Colab Notebooks'"
      ],
      "metadata": {
        "id": "I-QDqD0Lfhrv"
      },
      "execution_count": null,
      "outputs": []
    },
    {
      "cell_type": "code",
      "source": [
        "!cp drive/MyDrive/'Colab Notebooks'/models.ipynb ."
      ],
      "metadata": {
        "id": "vFUptdHLfjR9"
      },
      "execution_count": null,
      "outputs": []
    },
    {
      "cell_type": "code",
      "source": [
        "import import_ipynb\n",
        "import utils\n",
        "import models\n",
        "utils.hide_toggle('Imports 1')"
      ],
      "metadata": {
        "id": "AhXJslsSfkTE"
      },
      "execution_count": null,
      "outputs": []
    },
    {
      "cell_type": "code",
      "source": [
        "from IPython import display\n",
        "import torch\n",
        "import torch.nn as nn\n",
        "from sklearn.manifold import TSNE\n",
        "from matplotlib import pyplot as plt\n",
        "from l2lutils import KShotLoader\n",
        "from IPython import display\n",
        "utils.hide_toggle('Imports 2')"
      ],
      "metadata": {
        "id": "RYZQakuafleN"
      },
      "execution_count": null,
      "outputs": []
    },
    {
      "cell_type": "code",
      "source": [
        "import random\n",
        "import torch\n",
        "class DataLoader():\n",
        "    def __init__(self, data, train_task, test_task):\n",
        "        self.data = data\n",
        "        self.train_task = train_task;\n",
        "        self.test_task = test_task\n",
        "    def get_task(self, kind = \"meta_train\", technique = 2):\n",
        "        ind = 0\n",
        "        if(kind == \"meta_train\"):\n",
        "            ind = random.randint(0, self.train_task - 1)\n",
        "        else:\n",
        "            ind = random.randint(0, self.test_task - 1)\n",
        "        # print(ind)\n",
        "        b = self.data.get_fs_task(ind, kind)\n",
        "        train = b[\"train\"]\n",
        "        test = b[\"test\"]\n",
        "        if(technique == 2):\n",
        "          return self.process(train), self.process(test)\n",
        "        return self.process2(train), self.process2(test)\n",
        "    def process(self, batch):\n",
        "        pair_list, pair_label = [], []\n",
        "        for ind, sample in enumerate(batch):\n",
        "            if(\"label\" not in sample):\n",
        "                continue\n",
        "            train = sample[\"input\"]\n",
        "            label = sample[\"label\"]\n",
        "            test = sample[\"output\"]\n",
        "            train_torch = torch.FloatTensor(train)\n",
        "            train_torch = torch.flatten(train_torch, start_dim = 0)\n",
        "            # train_torch = torch.unsqueeze(train_torch, 0)\n",
        "            \n",
        "            for ind_out, j in enumerate(test):\n",
        "                if(len(j) == len(train)):\n",
        "                    test_torch = torch.FloatTensor(j)\n",
        "                    print(test_torch.shape)\n",
        "                    test_torch = torch.flatten(test_torch, start_dim = 0)\n",
        "                    pair_list.append(torch.cat((train_torch, test_torch), 0))\n",
        "                    pair_label.append(ind_out == label)\n",
        "        # print(torch.stack(pair_list).shape)\n",
        "        return (torch.stack(pair_list), torch.LongTensor(pair_label)) \n",
        " predict   def process2(self, batch):\n",
        "        pair_list, pair_label = [], []\n",
        "        for ind, sample in enumerate(batch):\n",
        "            if(\"label\" not in sample):\n",
        "                continue\n",
        "            train = sample[\"input\"]\n",
        "            label = sample[\"label\"]\n",
        "            test = sample[\"output\"]\n",
        "            train_torch = torch.FloatTensor(train)\n",
        "            train_torch = torch.flatten(train_torch, start_dim = 0)\n",
        "            # train_torch = torch.unsqueeze(train_torch, 0)\n",
        "            \n",
        "            for ind_out, j in enumerate(test):\n",
        "                if(len(j) == len(train)):\n",
        "                    test_torch = torch.FloatTensor(j)\n",
        "                    test_torch = torch.flatten(test_torch, start_dim = 0)\n",
        "                    train_torch = torch.cat((train_torch, test_torch), 0)\n",
        "            pair_label.append(label)\n",
        "            pair_list.append(train_torch)\n",
        "        # print(torch.stack(pair_list).shape)\n",
        "        return (torch.stack(pair_list), torch.LongTensor(pair_label)) \n"
      ],
      "metadata": {
        "id": "hO1P68aV8OyQ"
      },
      "execution_count": null,
      "outputs": []
    },
    {
      "cell_type": "code",
      "source": [
        "train_tasks = len(b.meta_train_tasks)\n",
        "test_tasks = len(b.meta_test_tasks)\n"
      ],
      "metadata": {
        "id": "qB_4-jrPnph4"
      },
      "execution_count": null,
      "outputs": []
    },
    {
      "cell_type": "code",
      "source": [
        "loader = DataLoader(b, train_tasks, test_tasks)"
      ],
      "metadata": {
        "id": "1lYLSwEmX4wd"
      },
      "execution_count": null,
      "outputs": []
    },
    {
      "cell_type": "code",
      "source": [
        "loader.get_task()"
      ],
      "metadata": {
        "id": "-mudLV8jQI6L"
      },
      "execution_count": null,
      "outputs": []
    },
    {
      "cell_type": "markdown",
      "source": [
        "# MAML\n"
      ],
      "metadata": {
        "id": "NVNdVb-cfHdt"
      }
    },
    {
      "cell_type": "markdown",
      "source": [
        "## technique 1 - clubbing everything together"
      ],
      "metadata": {
        "id": "p0MtyuOPjjLN"
      }
    },
    {
      "cell_type": "code",
      "source": [
        "ways, input_features = 4, 500"
      ],
      "metadata": {
        "id": "upLe-xuFkZ7H"
      },
      "execution_count": null,
      "outputs": []
    },
    {
      "cell_type": "code",
      "source": [
        "import learn2learn as l2l\n",
        "import torch.optim as optim\n",
        "\n",
        "#net = models.MLP(dims=[20,32,32,ways])\n",
        "net = models.MLP(dims=[input_features,64,32,ways])\n",
        "#net = models.RNN(n_classes=3,dim=10,n_layers=2)\n",
        "maml = l2l.algorithms.MAML(net, lr=5e-3)\n",
        "#maml = l2l.algorithms.MAML(net0, lr=5e-2)\n",
        "optimizer = optim.Adam(maml.parameters(),lr=5e-4)\n",
        "# lossfn = torch.nn.NLLLoss(weight = torch.tensor([0.25, 0.75]))\n",
        "lossfn = torch.nn.NLLLoss()"
      ],
      "metadata": {
        "id": "FHjtD5NtfKge"
      },
      "execution_count": null,
      "outputs": []
    },
    {
      "cell_type": "code",
      "source": [
        "# Number of epochs, tasks per step and number of fast_adaptation steps \n",
        "n_epochs = 150\n",
        "task_count= 64\n",
        "fas = 5"
      ],
      "metadata": {
        "id": "N4wrj44u8J-M"
      },
      "execution_count": null,
      "outputs": []
    },
    {
      "cell_type": "code",
      "source": [
        "epoch=0\n",
        "while epoch<n_epochs:\n",
        "    adapt_loss = 0.0\n",
        "    test_acc = 0.0\n",
        "    # Sample and train on a task\n",
        "    for task in range(task_count):\n",
        "        d_train,d_test=loader.get_task(kind = \"meta_train\", technique = 1)\n",
        "        learner = maml.clone()\n",
        "        for fas_step in range(fas):\n",
        "            train_preds = learner(d_train[0])\n",
        "            train_loss = lossfn(train_preds,d_train[1])\n",
        "            learner.adapt(train_loss)\n",
        "        test_preds = learner(d_test[0])\n",
        "        adapt_loss += lossfn(test_preds,d_test[1])\n",
        "        learner.eval()\n",
        "        test_acc += models.accuracy(learner,d_test[0],d_test[1],verbose=False)\n",
        "        learner.train()\n",
        "        # Done with a task\n",
        "    # Update main network\n",
        "    print('Epoch  % 2d Loss: %2.5e Avg Acc: %2.5f'%(epoch,adapt_loss/task_count,test_acc/task_count))\n",
        "    display.clear_output(wait=True)\n",
        "    optimizer.zero_grad()\n",
        "    total_loss = adapt_loss\n",
        "    total_loss.backward()\n",
        "    optimizer.step()\n",
        "    epoch+=1\n",
        "    "
      ],
      "metadata": {
        "id": "xkejR7xU8EFn"
      },
      "execution_count": null,
      "outputs": []
    },
    {
      "cell_type": "code",
      "source": [
        "# meta_test_kloader=KShotLoader(meta_test_ds,shots=shots,ways=ways)\n",
        "test_acc = 0.0\n",
        "task_count = 50\n",
        "adapt_steps = 5\n",
        "maml.eval()\n",
        "# Sample and train on a task\n",
        "for task in range(task_count):\n",
        "    d_train,d_test=loader.get_task(kind = \"meta_test\", technique = 1)\n",
        "    learner = maml.clone()\n",
        "    learner.eval()\n",
        "    for adapt_step in range(adapt_steps):\n",
        "        train_preds = learner(d_train[0])\n",
        "        train_loss = lossfn(train_preds,d_train[1])\n",
        "        learner.adapt(train_loss)\n",
        "    test_preds = learner(d_test[0])\n",
        "    test_acc += models.accuracy(learner,d_test[0],d_test[1],verbose=False)\n",
        "    # Done with a task\n",
        "#learner.train()\n",
        "print('Avg Acc: %2.5f'%(test_acc/task_count))"
      ],
      "metadata": {
        "id": "3Rn4mAE88Hrk"
      },
      "execution_count": null,
      "outputs": []
    },
    {
      "cell_type": "markdown",
      "source": [
        "## technique 2 - clubbing only pairs (options and input) together, only 2 classes."
      ],
      "metadata": {
        "id": "SUdAyfARjoGm"
      }
    },
    {
      "cell_type": "code",
      "source": [
        "ways, input_features = 2, 200"
      ],
      "metadata": {
        "id": "zESQwM7_BXZ2"
      },
      "execution_count": null,
      "outputs": []
    },
    {
      "cell_type": "code",
      "source": [
        "import learn2learn as l2l\n",
        "import torch.optim as optim\n",
        "\n",
        "#net = models.MLP(dims=[20,32,32,ways])\n",
        "net = models.MLP(dims=[input_features,64,32,ways])\n",
        "#net = models.RNN(n_classes=3,dim=10,n_layers=2)\n",
        "maml = l2l.algorithms.MAML(net, lr=5e-3)\n",
        "#maml = l2l.algorithms.MAML(net0, lr=5e-2)\n",
        "optimizer = optim.Adam(maml.parameters(),lr=5e-4)\n",
        "lossfn = torch.nn.NLLLoss(weight = torch.tensor([0.25, 0.75]))"
      ],
      "metadata": {
        "id": "qinWxVaUBY33"
      },
      "execution_count": null,
      "outputs": []
    },
    {
      "cell_type": "code",
      "source": [
        "# Number of epochs, tasks per step and number of fast_adaptation steps \n",
        "n_epochs = 250\n",
        "task_count= 64\n",
        "fas = 5"
      ],
      "metadata": {
        "id": "JdwuKJsRBaSQ"
      },
      "execution_count": null,
      "outputs": []
    },
    {
      "cell_type": "code",
      "source": [
        "epoch=0\n",
        "while epoch<n_epochs:\n",
        "    adapt_loss = 0.0\n",
        "    test_acc = 0.0\n",
        "    # Sample and train on a task\n",
        "    for task in range(task_count):\n",
        "        d_train,d_test=loader.get_task(kind = \"meta_train\", technique = 2)\n",
        "        learner = maml.clone()\n",
        "        for fas_step in range(fas):\n",
        "            train_preds = learner(d_train[0])\n",
        "            train_loss = lossfn(train_preds,d_train[1])\n",
        "            learner.adapt(train_loss)\n",
        "        test_preds = learner(d_test[0])\n",
        "        adapt_loss += lossfn(test_preds,d_test[1])\n",
        "        learner.eval()\n",
        "        test_acc += models.accuracy(learner,d_test[0],d_test[1],verbose=False)\n",
        "        learner.train()\n",
        "        # Done with a task\n",
        "    # Update main network\n",
        "    print('Epoch  % 2d Loss: %2.5e Avg Acc: %2.5f'%(epoch,adapt_loss/task_count,test_acc/task_count))\n",
        "    display.clear_output(wait=True)\n",
        "    optimizer.zero_grad()\n",
        "    total_loss = adapt_loss\n",
        "    total_loss.backward()\n",
        "    optimizer.step()\n",
        "    epoch+=1\n",
        "    "
      ],
      "metadata": {
        "id": "EIJBABatBcDS"
      },
      "execution_count": null,
      "outputs": []
    },
    {
      "cell_type": "code",
      "source": [
        "# meta_test_kloader=KShotLoader(meta_test_ds,shots=shots,ways=ways)\n",
        "test_acc = 0.0\n",
        "task_count = 50\n",
        "adapt_steps = 5\n",
        "maml.eval()\n",
        "# Sample and train on a task\n",
        "for task in range(task_count):\n",
        "    d_train,d_test=loader.get_task(kind = \"meta_test\", technique = 2)\n",
        "    learner = maml.clone()\n",
        "    learner.eval()\n",
        "    for adapt_step in range(adapt_steps):\n",
        "        train_preds = learner(d_train[0])\n",
        "        train_loss = lossfn(train_preds,d_train[1])\n",
        "        learner.adapt(train_loss)\n",
        "    test_preds = learner(d_test[0])\n",
        "    test_acc += models.accuracy(learner,d_test[0],d_test[1],verbose=False)\n",
        "    # Done with a task\n",
        "#learner.train()\n",
        "print('Avg Acc: %2.5f'%(test_acc/task_count))"
      ],
      "metadata": {
        "id": "xBC2ps9VBdeE"
      },
      "execution_count": null,
      "outputs": []
    },
    {
      "cell_type": "code",
      "source": [
        "ways, input_features = 2, 200"
      ],
      "metadata": {
        "id": "eSSQURjmkYnI"
      },
      "execution_count": null,
      "outputs": []
    },
    {
      "cell_type": "code",
      "source": [
        "import learn2learn as l2l\n",
        "import torch.optim as optim\n",
        "\n",
        "#net = models.MLP(dims=[20,32,32,ways])\n",
        "net = models.MLP(dims=[input_features,64,32,ways])\n",
        "#net = models.RNN(n_classes=3,dim=10,n_layers=2)\n",
        "maml = l2l.algorithms.MAML(net, lr=5e-3)\n",
        "#maml = l2l.algorithms.MAML(net0, lr=5e-2)\n",
        "optimizer = optim.Adam(maml.parameters(),lr=5e-4)\n",
        "lossfn = torch.nn.NLLLoss(weight = torch.tensor([0.25, 0.75]))"
      ],
      "metadata": {
        "id": "fRTc3U4Jki9t"
      },
      "execution_count": null,
      "outputs": []
    },
    {
      "cell_type": "code",
      "source": [
        "def accuracy(Net,X_test,y_test,verbose=True):\n",
        "    Net.eval()\n",
        "    m = 0\n",
        "    y_pred = Net(X_test)\n",
        "    prob, predicted = torch.max(y_pred, 1)\n",
        "    correct = 0;\n",
        "    for i in range(0, y_test.size(0), 4):\n",
        "        cnt = 0\n",
        "        for j in range(4):\n",
        "              cnt += (y_test[i + j] == predicted[i + j])\n",
        "        if(cnt == 4):\n",
        "            correct += 1\n",
        "        m += 1\n",
        "    if verbose: print(correct,m)\n",
        "    accuracy = correct/m\n",
        "    #Net.train()\n",
        "    return accuracy"
      ],
      "metadata": {
        "id": "Rx7Id-fY0No5"
      },
      "execution_count": null,
      "outputs": []
    },
    {
      "cell_type": "code",
      "source": [
        "# Number of epochs, tasks per step and number of fast_adaptation steps \n",
        "n_epochs = 250\n",
        "task_count= 64\n",
        "fas = 5"
      ],
      "metadata": {
        "id": "e1Odo74dktjn"
      },
      "execution_count": null,
      "outputs": []
    },
    {
      "cell_type": "code",
      "source": [
        "epoch=0\n",
        "while epoch<n_epochs:\n",
        "    adapt_loss = 0.0\n",
        "    test_acc = 0.0\n",
        "    # Sample and train on a task\n",
        "    for task in range(task_count):\n",
        "        d_train,d_test=loader.get_task(kind = \"meta_train\", technique = 2)\n",
        "        learner = maml.clone()\n",
        "        for fas_step in range(fas):\n",
        "            train_preds = learner(d_train[0])\n",
        "            train_loss = lossfn(train_preds,d_train[1])\n",
        "            learner.adapt(train_loss)\n",
        "        test_preds = learner(d_test[0])\n",
        "        adapt_loss += lossfn(test_preds,d_test[1])\n",
        "        learner.eval()\n",
        "        test_acc += accuracy(learner,d_test[0],d_test[1],verbose=False)\n",
        "        learner.train()\n",
        "        # Done with a task\n",
        "    # Update main network\n",
        "    print('Epoch  % 2d Loss: %2.5e Avg Acc: %2.5f'%(epoch,adapt_loss/task_count,test_acc/task_count))\n",
        "    display.clear_output(wait=True)\n",
        "    optimizer.zero_grad()\n",
        "    total_loss = adapt_loss\n",
        "    total_loss.backward()\n",
        "    optimizer.step()\n",
        "    epoch+=1\n",
        "    "
      ],
      "metadata": {
        "id": "vTlszFwBkleu"
      },
      "execution_count": null,
      "outputs": []
    },
    {
      "cell_type": "code",
      "source": [
        "# meta_test_kloader=KShotLoader(meta_test_ds,shots=shots,ways=ways)\n",
        "test_acc = 0.0\n",
        "task_count = 50\n",
        "adapt_steps = 5\n",
        "maml.eval()\n",
        "# Sample and train on a task\n",
        "for task in range(task_count):\n",
        "    d_train,d_test=loader.get_task(kind = \"meta_test\", technique = 2)\n",
        "    learner = maml.clone()\n",
        "    learner.eval()\n",
        "    for adapt_step in range(adapt_steps):\n",
        "        train_preds = learner(d_train[0])\n",
        "        train_loss = lossfn(train_preds,d_train[1])\n",
        "        learner.adapt(train_loss)\n",
        "    test_preds = learner(d_test[0])\n",
        "    test_acc += accuracy(learner,d_test[0],d_test[1],verbose=False)\n",
        "    # Done with a task\n",
        "#learner.train()\n",
        "print('Avg Acc: %2.5f'%(test_acc/task_count))"
      ],
      "metadata": {
        "id": "KNJl-ymZko-j"
      },
      "execution_count": null,
      "outputs": []
    },
    {
      "cell_type": "markdown",
      "source": [
        "# CNP\n"
      ],
      "metadata": {
        "id": "YqCHOt3rbBmp"
      }
    },
    {
      "cell_type": "code",
      "source": [
        "!cp drive/MyDrive/'Colab Notebooks'/CNP.ipynb ."
      ],
      "metadata": {
        "id": "BLwSnMLfbmEl"
      },
      "execution_count": null,
      "outputs": []
    },
    {
      "cell_type": "code",
      "source": [
        "from CNP import CNP"
      ],
      "metadata": {
        "id": "SIq6F6BRbxe3"
      },
      "execution_count": null,
      "outputs": []
    },
    {
      "cell_type": "code",
      "source": [
        "# optimisers from torch\n",
        "import torch.optim as optim\n",
        "import torch.nn.functional as F"
      ],
      "metadata": {
        "id": "-FXACTRVb0wL"
      },
      "execution_count": null,
      "outputs": []
    },
    {
      "cell_type": "markdown",
      "source": [
        "## technique 1 - clubbing everything together"
      ],
      "metadata": {
        "id": "SQC1yeCSl430"
      }
    },
    {
      "cell_type": "code",
      "source": [
        "ways, input_features = 4, 500"
      ],
      "metadata": {
        "id": "DrBh4Fwil6N6"
      },
      "execution_count": null,
      "outputs": []
    },
    {
      "cell_type": "code",
      "source": [
        "import learn2learn as l2l\n",
        "import torch.optim as optim\n",
        "\n",
        "net = CNP(n_features=input_features,n_classes=ways,dims=[64,32],lr=1e-4,n_ways=ways)\n",
        "lossfn = torch.nn.NLLLoss()\n",
        "#Meta-testing task loader for later.\n"
      ],
      "metadata": {
        "id": "15jakl9gl8Bv"
      },
      "execution_count": null,
      "outputs": []
    },
    {
      "cell_type": "code",
      "source": [
        "# Redifning accuracy function so that it takes h - dataset context - as input since net requires it.\n",
        "def accuracy(Net,X_test,y_test,h,verbose=True):\n",
        "    #Net.eval()\n",
        "    m = X_test.shape[0]\n",
        "    y_pred = Net(X_test,h)\n",
        "    _, predicted = torch.max(y_pred, 1)\n",
        "    correct = (predicted == y_test).float().sum().item()\n",
        "    if verbose: print(correct,m)\n",
        "    accuracy = correct/m\n",
        "    #Net.train()\n",
        "    return accuracy"
      ],
      "metadata": {
        "id": "J9IUcJqal-N5"
      },
      "execution_count": null,
      "outputs": []
    },
    {
      "cell_type": "code",
      "source": [
        "epoch=0\n",
        "n_epochs=500\n",
        "task_count=64\n",
        "while epoch<n_epochs:\n",
        "    test_loss = 0.0\n",
        "    test_acc = 0.0\n",
        "    # Sample and train on a task\n",
        "    for task in range(task_count):\n",
        "        d_train,d_test=loader.get_task(kind = \"meta_train\", technique = 1)\n",
        "        rp = torch.randperm(d_train[1].shape[0])\n",
        "        d_train0=d_train[0][rp]\n",
        "        d_train1=d_train[1][rp]\n",
        "        x_tr = d_train0\n",
        "        d_tr = x_tr \n",
        "        h,_,_ = net.adapt(d_tr,d_train1)\n",
        "        rp1 = torch.randperm(d_test[1].shape[0])\n",
        "        d_test0=d_test[0][rp1]\n",
        "        d_test1=d_test[1][rp1]\n",
        "        x_ts = d_test0\n",
        "        y_ts_sh = torch.zeros(x_ts.shape[0],ways)\n",
        "        d_ts = x_ts \n",
        "        test_preds = net(d_ts,h)\n",
        "        #train_preds = net(d_tr,h)\n",
        "        # Accumulate losses over tasks - note train and test loss both included\n",
        "        test_loss += lossfn(test_preds,d_test1)#+lossfn(train_preds,d_train1)\n",
        "        net.eval()\n",
        "        test_acc += accuracy(net,d_ts,d_test1,h,verbose=False)\n",
        "        net.train()\n",
        "    #Update the network weights\n",
        "    print('Epoch  % 2d Loss: %2.5e Avg Acc: %2.5f'%(epoch,test_loss/task_count,test_acc/task_count))\n",
        "    display.clear_output(wait=True)\n",
        "    net.optimizer.zero_grad()\n",
        "    test_loss.backward()\n",
        "    net.optimizer.step()\n",
        "    epoch+=1\n",
        "    "
      ],
      "metadata": {
        "id": "5c7cMeMbl_fJ"
      },
      "execution_count": null,
      "outputs": []
    },
    {
      "cell_type": "code",
      "source": [
        "\n",
        "test_acc = 0.0\n",
        "task_count = 50\n",
        "adapt_steps = 1\n",
        "# Sample and train on a task\n",
        "for task in range(task_count):\n",
        "    d_train,d_test=loader.get_task(kind = \"meta_test\", technique = 1)\n",
        "    x_tr = d_train[0]\n",
        "    y_tr_sh = torch.cat((torch.zeros(1,ways),torch.eye(ways)[d_train[1][1:]]))\n",
        "    d_tr = x_tr #torch.cat((x_tr,y_tr_sh),1)\n",
        "    h,_,_=net.adapt(d_tr,d_train[1])\n",
        "    x_ts = d_test[0]\n",
        "    y_ts_sh = torch.zeros(x_ts.shape[0],ways)\n",
        "    d_ts = x_ts #torch.cat((x_ts,y_ts_sh),1)\n",
        "    test_preds = net(d_ts,h)\n",
        "    test_acc += accuracy(net,d_ts,d_test[1],h,verbose=False)\n",
        "    # Done with a task\n",
        "net.train()\n",
        "print('Avg Acc: %2.5f'%(test_acc/task_count))"
      ],
      "metadata": {
        "id": "210tOiWWmBEz"
      },
      "execution_count": null,
      "outputs": []
    },
    {
      "cell_type": "markdown",
      "source": [
        "## technique 2 - clubbing only pairs (options and input) together, only 2 classes."
      ],
      "metadata": {
        "id": "ynUc-DRqlQNL"
      }
    },
    {
      "cell_type": "code",
      "source": [
        "ways, input_features = 2, 200"
      ],
      "metadata": {
        "id": "KCGk4udDBCQp"
      },
      "execution_count": null,
      "outputs": []
    },
    {
      "cell_type": "code",
      "source": [
        "import learn2learn as l2l\n",
        "import torch.optim as optim\n",
        "\n",
        "net = CNP(n_features=input_features,n_classes=ways,dims=[64,32],lr=1e-4,n_ways=ways)\n",
        "lossfn = torch.nn.NLLLoss(weight = torch.tensor([0.25, 0.75]))\n",
        "#Meta-testing task loader for later.\n"
      ],
      "metadata": {
        "id": "TK9lJz_MBDK-"
      },
      "execution_count": null,
      "outputs": []
    },
    {
      "cell_type": "code",
      "source": [
        "# Redifning accuracy function so that it takes h - dataset context - as input since net requires it.\n",
        "def accuracy(Net,X_test,y_test,h,verbose=True):\n",
        "    #Net.eval()\n",
        "    m = X_test.shape[0]\n",
        "    y_pred = Net(X_test,h)\n",
        "    _, predicted = torch.max(y_pred, 1)\n",
        "    correct = (predicted == y_test).float().sum().item()\n",
        "    if verbose: print(correct,m)\n",
        "    accuracy = correct/m\n",
        "    #Net.train()\n",
        "    return accuracy"
      ],
      "metadata": {
        "id": "0UrnwB7OBFCL"
      },
      "execution_count": null,
      "outputs": []
    },
    {
      "cell_type": "code",
      "source": [
        "epoch=0\n",
        "n_epochs=1000\n",
        "task_count=64\n",
        "while epoch<n_epochs:\n",
        "    test_loss = 0.0\n",
        "    test_acc = 0.0\n",
        "    # Sample and train on a task\n",
        "    for task in range(task_count):\n",
        "        d_train,d_test=loader.get_task(kind = \"meta_train\", technique = 2)\n",
        "        rp = torch.randperm(d_train[1].shape[0])\n",
        "        d_train0=d_train[0][rp]\n",
        "        d_train1=d_train[1][rp]\n",
        "        x_tr = d_train0\n",
        "        d_tr = x_tr \n",
        "        h,_,_ = net.adapt(d_tr,d_train1)\n",
        "        rp1 = torch.randperm(d_test[1].shape[0])\n",
        "        d_test0=d_test[0][rp1]\n",
        "        d_test1=d_test[1][rp1]\n",
        "        x_ts = d_test0\n",
        "        y_ts_sh = torch.zeros(x_ts.shape[0],ways)\n",
        "        d_ts = x_ts \n",
        "        test_preds = net(d_ts,h)\n",
        "        #train_preds = net(d_tr,h)\n",
        "        # Accumulate losses over tasks - note train and test loss both included\n",
        "        test_loss += lossfn(test_preds,d_test1)#+lossfn(train_preds,d_train1)\n",
        "        net.eval()\n",
        "        test_acc += accuracy(net,d_ts,d_test1,h,verbose=False)\n",
        "        net.train()\n",
        "    #Update the network weights\n",
        "    print('Epoch  % 2d Loss: %2.5e Avg Acc: %2.5f'%(epoch,test_loss/task_count,test_acc/task_count))\n",
        "    display.clear_output(wait=True)\n",
        "    net.optimizer.zero_grad()\n",
        "    test_loss.backward()\n",
        "    net.optimizer.step()\n",
        "    epoch+=1\n",
        "    "
      ],
      "metadata": {
        "id": "QidJJsmbBGHj"
      },
      "execution_count": null,
      "outputs": []
    },
    {
      "cell_type": "code",
      "source": [
        "\n",
        "test_acc = 0.0\n",
        "task_count = 50\n",
        "adapt_steps = 1\n",
        "# Sample and train on a task\n",
        "for task in range(task_count):\n",
        "    d_train,d_test=loader.get_task(kind = \"meta_test\", technique = 2)\n",
        "    x_tr = d_train[0]\n",
        "    y_tr_sh = torch.cat((torch.zeros(1,ways),torch.eye(ways)[d_train[1][1:]]))\n",
        "    d_tr = x_tr #torch.cat((x_tr,y_tr_sh),1)\n",
        "    h,_,_=net.adapt(d_tr,d_train[1])\n",
        "    x_ts = d_test[0]\n",
        "    y_ts_sh = torch.zeros(x_ts.shape[0],ways)\n",
        "    d_ts = x_ts #torch.cat((x_ts,y_ts_sh),1)\n",
        "    test_preds = net(d_ts,h)\n",
        "    test_acc += accuracy(net,d_ts,d_test[1],h,verbose=False)\n",
        "    # Done with a task\n",
        "net.train()\n",
        "print('Avg Acc: %2.5f'%(test_acc/task_count))"
      ],
      "metadata": {
        "id": "haQ6P9X9BJG7"
      },
      "execution_count": null,
      "outputs": []
    },
    {
      "cell_type": "code",
      "source": [
        "ways, input_features = 2, 200"
      ],
      "metadata": {
        "id": "JtMUJt38lOLu"
      },
      "execution_count": null,
      "outputs": []
    },
    {
      "cell_type": "code",
      "source": [
        "import learn2learn as l2l\n",
        "import torch.optim as optim\n",
        "\n",
        "net = CNP(n_features=input_features,n_classes=ways,dims=[64,32],lr=1e-4,n_ways=ways)\n",
        "lossfn = torch.nn.NLLLoss(weight = torch.tensor([0.25, 0.75]))\n",
        "#Meta-testing task loader for later.\n"
      ],
      "metadata": {
        "id": "VtA2jLijb40o"
      },
      "execution_count": null,
      "outputs": []
    },
    {
      "cell_type": "code",
      "source": [
        "# Redifning accuracy function so that it takes h - dataset context - as input since net requires it.\n",
        "def accuracy(Net,X_test,y_test,h,verbose=True):\n",
        "    #Net.eval()\n",
        "    m = 0\n",
        "    y_pred = Net(X_test,h)\n",
        "    prob, predicted = torch.max(y_pred, 1)\n",
        "    correct = 0;\n",
        "    for i in range(0, y_test.size(0), 4):\n",
        "        cnt = 0\n",
        "        for j in range(4):\n",
        "              cnt += (y_test[i + j] == predicted[i + j])\n",
        "        if(cnt == 4):\n",
        "            correct += 1\n",
        "        m += 1\n",
        "    if verbose: print(correct,m)\n",
        "    accuracy = correct/m\n",
        "    #Net.train()\n",
        "    return accuracy"
      ],
      "metadata": {
        "id": "cfR_DtvMcOY8"
      },
      "execution_count": null,
      "outputs": []
    },
    {
      "cell_type": "code",
      "source": [
        "epoch=0\n",
        "n_epochs=1000\n",
        "task_count=64\n",
        "while epoch<n_epochs:\n",
        "    test_loss = 0.0\n",
        "    test_acc = 0.0\n",
        "    # Sample and train on a task\n",
        "    for task in range(task_count):\n",
        "        d_train,d_test=loader.get_task(kind = \"meta_train\", technique = 2)\n",
        "        rp = torch.randperm(d_train[1].shape[0])\n",
        "        d_train0=d_train[0][rp]\n",
        "        d_train1=d_train[1][rp]\n",
        "        x_tr = d_train0\n",
        "        d_tr = x_tr \n",
        "        h,_,_ = net.adapt(d_tr,d_train1)\n",
        "        rp1 = torch.randperm(d_test[1].shape[0])\n",
        "        d_test0=d_test[0][rp1]\n",
        "        d_test1=d_test[1][rp1]\n",
        "        x_ts = d_test0\n",
        "        y_ts_sh = torch.zeros(x_ts.shape[0],ways)\n",
        "        d_ts = x_ts \n",
        "        test_preds = net(d_ts,h)\n",
        "        #train_preds = net(d_tr,h)\n",
        "        # Accumulate losses over tasks - note train and test loss both included\n",
        "        test_loss += lossfn(test_preds,d_test1)#+lossfn(train_preds,d_train1)\n",
        "        net.eval()\n",
        "        test_acc += accuracy(net,d_ts,d_test1,h,verbose=False)\n",
        "        net.train()\n",
        "    #Update the network weights\n",
        "    print('Epoch  % 2d Loss: %2.5e Avg Acc: %2.5f'%(epoch,test_loss/task_count,test_acc/task_count))\n",
        "    display.clear_output(wait=True)\n",
        "    net.optimizer.zero_grad()\n",
        "    test_loss.backward()\n",
        "    net.optimizer.step()\n",
        "    epoch+=1\n",
        "    "
      ],
      "metadata": {
        "id": "igBOj60Bcbf-"
      },
      "execution_count": null,
      "outputs": []
    },
    {
      "cell_type": "code",
      "source": [
        "\n",
        "test_acc = 0.0\n",
        "task_count = 50\n",
        "adapt_steps = 1\n",
        "# Sample and train on a task\n",
        "for task in range(task_count):\n",
        "    d_train,d_test=loader.get_task(kind = \"meta_test\", technique = 2)\n",
        "    x_tr = d_train[0]\n",
        "    y_tr_sh = torch.cat((torch.zeros(1,ways),torch.eye(ways)[d_train[1][1:]]))\n",
        "    d_tr = x_tr #torch.cat((x_tr,y_tr_sh),1)\n",
        "    h,_,_=net.adapt(d_tr,d_train[1])\n",
        "    x_ts = d_test[0]\n",
        "    y_ts_sh = torch.zeros(x_ts.shape[0],ways)\n",
        "    d_ts = x_ts #torch.cat((x_ts,y_ts_sh),1)\n",
        "    test_preds = net(d_ts,h)\n",
        "    test_acc += accuracy(net,d_ts,d_test[1],h,verbose=False)\n",
        "    # Done with a task\n",
        "net.train()\n",
        "print('Avg Acc: %2.5f'%(test_acc/task_count))"
      ],
      "metadata": {
        "id": "v_40-TdocdPg"
      },
      "execution_count": null,
      "outputs": []
    },
    {
      "cell_type": "markdown",
      "source": [
        "# MAN\n"
      ],
      "metadata": {
        "id": "Hs3Zn6FbfJkZ"
      }
    },
    {
      "cell_type": "code",
      "source": [
        "import learn2learn as l2l\n",
        "import torch.optim as optim\n",
        "import torch.nn as nn\n",
        "import torch.nn.functional as F"
      ],
      "metadata": {
        "id": "pUa68ZrAfLFz"
      },
      "execution_count": null,
      "outputs": []
    },
    {
      "cell_type": "code",
      "source": [
        "!cp drive/MyDrive/'Colab Notebooks'/models.ipynb .\n",
        "!cp drive/MyDrive/'Colab Notebooks'/MAN.ipynb ."
      ],
      "metadata": {
        "id": "78vXtQzvfate"
      },
      "execution_count": null,
      "outputs": []
    },
    {
      "cell_type": "code",
      "source": [
        "from MAN import MAN"
      ],
      "metadata": {
        "id": "HHJreb9Sfcan"
      },
      "execution_count": null,
      "outputs": []
    },
    {
      "cell_type": "code",
      "source": [
        "# Redifning accuracy function so that it takes h - dataset context - as input since net requires it.\n",
        "def accuracy(Net,X_test,y_test,h,verbose=True):\n",
        "    #Net.eval()\n",
        "    m = X_test.shape[0]\n",
        "    y_pred = Net(X_test,h)\n",
        "    _, predicted = torch.max(y_pred, 1)\n",
        "    correct = (predicted == y_test).float().sum().item()\n",
        "    if verbose: print(correct,m)\n",
        "    accuracy = correct/m\n",
        "    #Net.train()\n",
        "    return accuracy"
      ],
      "metadata": {
        "id": "hLOXcMUxhH-s"
      },
      "execution_count": null,
      "outputs": []
    },
    {
      "cell_type": "markdown",
      "source": [
        "## technique 1 - clubbing everything together"
      ],
      "metadata": {
        "id": "ah1E04IOmV9h"
      }
    },
    {
      "cell_type": "code",
      "source": [
        "ways, input_features = 4, 500"
      ],
      "metadata": {
        "id": "OjBQLuBLmczq"
      },
      "execution_count": null,
      "outputs": []
    },
    {
      "cell_type": "code",
      "source": [
        "import learn2learn as l2l\n",
        "import torch.optim as optim\n",
        "\n",
        "net = MAN(n_classes=ways,dims=[input_features,64,32], num_layers = 2, unrolling_steps = 5, lr=5*1e-4)\n",
        "lossfn = torch.nn.NLLLoss()"
      ],
      "metadata": {
        "id": "EH5OlRhPmXGU"
      },
      "execution_count": null,
      "outputs": []
    },
    {
      "cell_type": "code",
      "source": [
        "# Redifning accuracy function so that it takes h - dataset context - as input since net requires it.\n",
        "def accuracy(Net,X_test,y_test,h,verbose=True):\n",
        "    #Net.eval()\n",
        "    m = X_test.shape[0]\n",
        "    y_pred = Net(X_test,h)\n",
        "    _, predicted = torch.max(y_pred, 1)\n",
        "    correct = (predicted == y_test).float().sum().item()\n",
        "    if verbose: print(correct,m)\n",
        "    accuracy = correct/m\n",
        "    #Net.train()\n",
        "    return accuracy"
      ],
      "metadata": {
        "id": "YLGdDj6jziwT"
      },
      "execution_count": null,
      "outputs": []
    },
    {
      "cell_type": "code",
      "source": [
        "epoch=0\n",
        "n_epochs=100\n",
        "task_count=64\n",
        "while epoch<n_epochs:\n",
        "    test_loss = 0.0\n",
        "    test_acc = 0.0\n",
        "    # Sample and train on a task\n",
        "    for task in range(task_count):\n",
        "        d_train,d_test= loader.get_task(kind = \"meta_train\", technique = 1)\n",
        "        rp = torch.randperm(d_train[1].shape[0])\n",
        "        d_train0=d_train[0][rp]\n",
        "        d_train1=d_train[1][rp]\n",
        "        # print(d_train0.shape)\n",
        "        x_tr = d_train0\n",
        "        d_tr = x_tr \n",
        "        rp1 = torch.randperm(d_test[1].shape[0])\n",
        "        d_test0=d_test[0][rp1]\n",
        "        d_test1=d_test[1][rp1]\n",
        "        x_ts = d_test0\n",
        "        d_ts = x_ts \n",
        "        test_preds = net(d_ts,(x_tr,d_train1))\n",
        "        # print(test/_preds)\n",
        "        train_preds = net(d_tr,(x_tr,d_train1))\n",
        "        # Accumulate losses over tasks - note train and test loss both included\n",
        "        test_loss += lossfn(test_preds,d_test1) \n",
        "        # test_loss += lossfn(train_preds, d_train1)\n",
        "\n",
        "        net.eval()\n",
        "        test_acc += accuracy(net,d_ts,d_test1,(x_tr,d_train1),verbose=False)\n",
        "        net.train()\n",
        "    #Update the network weights\n",
        "    print('Epoch  % 2d Loss: %2.5e Avg Acc: %2.5f'%(epoch,test_loss/task_count,test_acc/task_count))\n",
        "    display.clear_output(wait=True)\n",
        "    net.optimizer.zero_grad()\n",
        "    test_loss.backward()\n",
        "    net.optimizer.step()\n",
        "    epoch+=1\n",
        "    "
      ],
      "metadata": {
        "id": "L6RNPuKjmgxs"
      },
      "execution_count": null,
      "outputs": []
    },
    {
      "cell_type": "code",
      "source": [
        "\n",
        "test_acc = 0.0\n",
        "task_count = 50\n",
        "adapt_steps = 1\n",
        "# Sample and train on a task\n",
        "for task in range(task_count):\n",
        "    d_train,d_test=loader.get_task(kind = \"meta_test\", technique = 1)\n",
        "    x_tr = d_train[0]\n",
        "    y_tr_sh = torch.cat((torch.zeros(1,ways),torch.eye(ways)[d_train[1][1:]]))\n",
        "    d_tr = x_tr #torch.cat((x_tr,y_tr_sh),1)\n",
        "    x_ts = d_test[0]\n",
        "    y_ts_sh = torch.zeros(x_ts.shape[0],ways)\n",
        "    d_ts = x_ts #torch.cat((x_ts,y_ts_sh),1)\n",
        "    test_preds = net(d_ts,(d_tr,d_train[1]))\n",
        "    test_acc += accuracy(net,d_ts,d_test[1],(d_tr,d_train[1]),verbose=False)\n",
        "    # Done with a task\n",
        "net.train()\n",
        "print('Avg Acc: %2.5f'%(test_acc/task_count))"
      ],
      "metadata": {
        "id": "NbD5iK1_miKi"
      },
      "execution_count": null,
      "outputs": []
    },
    {
      "cell_type": "markdown",
      "source": [
        "## technique 2 - clubbing only pairs (options and input) together, only 2 classes."
      ],
      "metadata": {
        "id": "D4TOFD8TmZH6"
      }
    },
    {
      "cell_type": "code",
      "source": [
        "ways, input_features = 2, 200"
      ],
      "metadata": {
        "id": "Bc_SDjmTA4xL"
      },
      "execution_count": null,
      "outputs": []
    },
    {
      "cell_type": "code",
      "source": [
        "# Redifning accuracy function so that it takes h - dataset context - as input since net requires it.\n",
        "def accuracy(Net,X_test,y_test,h,verbose=True):\n",
        "    #Net.eval()\n",
        "    m = X_test.shape[0]\n",
        "    y_pred = Net(X_test,h)\n",
        "    _, predicted = torch.max(y_pred, 1)\n",
        "    correct = (predicted == y_test).float().sum().item()\n",
        "    if verbose: print(correct,m)\n",
        "    accuracy = correct/m\n",
        "    #Net.train()\n",
        "    return accuracy"
      ],
      "metadata": {
        "id": "jHKdC5hRA38e"
      },
      "execution_count": null,
      "outputs": []
    },
    {
      "cell_type": "code",
      "source": [
        "import learn2learn as l2l\n",
        "import torch.optim as optim\n",
        "\n",
        "net = MAN(n_classes=ways,dims=[200,64,32], num_layers = 2, unrolling_steps = 5, lr=5*1e-4)\n",
        "lossfn = torch.nn.NLLLoss(weight = torch.tensor([0.25, 0.75]))"
      ],
      "metadata": {
        "id": "FK77o39tA5n7"
      },
      "execution_count": null,
      "outputs": []
    },
    {
      "cell_type": "code",
      "source": [
        "epoch=0\n",
        "n_epochs=100\n",
        "task_count=64\n",
        "while epoch<n_epochs:\n",
        "    test_loss = 0.0\n",
        "    test_acc = 0.0\n",
        "    # Sample and train on a task\n",
        "    for task in range(task_count):\n",
        "        d_train,d_test= loader.get_task(kind = \"meta_train\", technique = 2)\n",
        "        rp = torch.randperm(d_train[1].shape[0])\n",
        "        d_train0=d_train[0][rp]\n",
        "        d_train1=d_train[1][rp]\n",
        "        # print(d_train0.shape)\n",
        "        x_tr = d_train0\n",
        "        d_tr = x_tr \n",
        "        rp1 = torch.randperm(d_test[1].shape[0])\n",
        "        d_test0=d_test[0][rp1]\n",
        "        d_test1=d_test[1][rp1]\n",
        "        x_ts = d_test0\n",
        "        d_ts = x_ts \n",
        "        test_preds = net(d_ts,(x_tr,d_train1))\n",
        "        # print(test/_preds)\n",
        "        train_preds = net(d_tr,(x_tr,d_train1))\n",
        "        # Accumulate losses over tasks - note train and test loss both included\n",
        "        test_loss += lossfn(test_preds,d_test1) \n",
        "        # test_loss += lossfn(train_preds, d_train1)\n",
        "\n",
        "        net.eval()\n",
        "        test_acc += accuracy(net,d_ts,d_test1,(x_tr,d_train1),verbose=False)\n",
        "        net.train()\n",
        "    #Update the network weights\n",
        "    print('Epoch  % 2d Loss: %2.5e Avg Acc: %2.5f'%(epoch,test_loss/task_count,test_acc/task_count))\n",
        "    display.clear_output(wait=True)\n",
        "    net.optimizer.zero_grad()\n",
        "    test_loss.backward()\n",
        "    net.optimizer.step()\n",
        "    epoch+=1\n",
        "    "
      ],
      "metadata": {
        "id": "VNRsHJdzA76d"
      },
      "execution_count": null,
      "outputs": []
    },
    {
      "cell_type": "code",
      "source": [
        "\n",
        "test_acc = 0.0\n",
        "task_count = 50\n",
        "adapt_steps = 1\n",
        "# Sample and train on a task\n",
        "for task in range(task_count):\n",
        "    d_train,d_test=loader.get_task(kind = \"meta_test\", technique = 2)\n",
        "    x_tr = d_train[0]\n",
        "    y_tr_sh = torch.cat((torch.zeros(1,ways),torch.eye(ways)[d_train[1][1:]]))\n",
        "    d_tr = x_tr #torch.cat((x_tr,y_tr_sh),1)\n",
        "    x_ts = d_test[0]\n",
        "    y_ts_sh = torch.zeros(x_ts.shape[0],ways)\n",
        "    d_ts = x_ts #torch.cat((x_ts,y_ts_sh),1)\n",
        "    test_preds = net(d_ts,(d_tr,d_train[1]))\n",
        "    test_acc += accuracy(net,d_ts,d_test[1],(d_tr,d_train[1]),verbose=False)\n",
        "    # Done with a task\n",
        "net.train()\n",
        "print('Avg Acc: %2.5f'%(test_acc/task_count))"
      ],
      "metadata": {
        "id": "D4DTOZqbA9aN"
      },
      "execution_count": null,
      "outputs": []
    },
    {
      "cell_type": "code",
      "source": [
        "ways, input_features = 2, 200"
      ],
      "metadata": {
        "id": "nyYdL8EdmcBD"
      },
      "execution_count": null,
      "outputs": []
    },
    {
      "cell_type": "code",
      "source": [
        "import learn2learn as l2l\n",
        "import torch.optim as optim\n",
        "\n",
        "net = MAN(n_classes=ways,dims=[200,64,32], num_layers = 2, unrolling_steps = 5, lr=5*1e-4)\n",
        "lossfn = torch.nn.NLLLoss(weight = torch.tensor([0.25, 0.75]))"
      ],
      "metadata": {
        "id": "G2urfFdVfdyE"
      },
      "execution_count": null,
      "outputs": []
    },
    {
      "cell_type": "code",
      "source": [
        "# Redifning accuracy function so that it takes h - dataset context - as input since net requires it.\n",
        "def accuracy(Net,X_test,y_test,h,verbose=True):\n",
        "    #Net.eval()\n",
        "    m = 0\n",
        "    y_pred = Net(X_test,h)\n",
        "    prob, predicted = torch.max(y_pred, 1)\n",
        "    correct = 0;\n",
        "    for i in range(0, y_test.size(0), 4):\n",
        "        cnt = 0\n",
        "        for j in range(4):\n",
        "              cnt += (y_test[i + j] == predicted[i + j])\n",
        "        if(cnt == 4):\n",
        "            correct += 1\n",
        "        m += 1\n",
        "    if verbose: print(correct,m)\n",
        "    accuracy = correct/m\n",
        "    #Net.train()\n",
        "    return accuracy"
      ],
      "metadata": {
        "id": "m__oU5ZuzkF8"
      },
      "execution_count": null,
      "outputs": []
    },
    {
      "cell_type": "code",
      "source": [
        "epoch=0\n",
        "n_epochs=300\n",
        "task_count=64\n",
        "while epoch<n_epochs:\n",
        "    test_loss = 0.0\n",
        "    test_acc = 0.0\n",
        "    # Sample and train on a task\n",
        "    for task in range(task_count):\n",
        "        d_train,d_test= loader.get_task(kind = \"meta_train\", technique = 2)\n",
        "        rp = torch.randperm(d_train[1].shape[0])\n",
        "        d_train0=d_train[0][rp]\n",
        "        d_train1=d_train[1][rp]\n",
        "        # print(d_train0.shape)\n",
        "        x_tr = d_train0\n",
        "        d_tr = x_tr \n",
        "        rp1 = torch.randperm(d_test[1].shape[0])\n",
        "        d_test0=d_test[0][rp1]\n",
        "        d_test1=d_test[1][rp1]\n",
        "        x_ts = d_test0\n",
        "        d_ts = x_ts \n",
        "        test_preds = net(d_ts,(x_tr,d_train1))\n",
        "        # print(test/_preds)\n",
        "        train_preds = net(d_tr,(x_tr,d_train1))\n",
        "        # Accumulate losses over tasks - note train and test loss both included\n",
        "        test_loss += lossfn(test_preds,d_test1) \n",
        "        # test_loss += lossfn(train_preds, d_train1)\n",
        "\n",
        "        net.eval()\n",
        "        test_acc += accuracy(net,d_ts,d_test1,(x_tr,d_train1),verbose=False)\n",
        "        net.train()\n",
        "    #Update the network weights\n",
        "    print('Epoch  % 2d Loss: %2.5e Avg Acc: %2.5f'%(epoch,test_loss/task_count,test_acc/task_count))\n",
        "    display.clear_output(wait=True)\n",
        "    net.optimizer.zero_grad()\n",
        "    test_loss.backward()\n",
        "    net.optimizer.step()\n",
        "    epoch+=1\n",
        "    "
      ],
      "metadata": {
        "id": "Q_DsK9QTf9yn"
      },
      "execution_count": null,
      "outputs": []
    },
    {
      "cell_type": "code",
      "source": [
        "\n",
        "test_acc = 0.0\n",
        "task_count = 50\n",
        "adapt_steps = 1\n",
        "# Sample and train on a task\n",
        "for task in range(task_count):\n",
        "    d_train,d_test=loader.get_task(kind = \"meta_test\", technique = 2)\n",
        "    x_tr = d_train[0]\n",
        "    y_tr_sh = torch.cat((torch.zeros(1,ways),torch.eye(ways)[d_train[1][1:]]))\n",
        "    d_tr = x_tr #torch.cat((x_tr,y_tr_sh),1)\n",
        "    x_ts = d_test[0]\n",
        "    y_ts_sh = torch.zeros(x_ts.shape[0],ways)\n",
        "    d_ts = x_ts #torch.cat((x_ts,y_ts_sh),1)\n",
        "    test_preds = net(d_ts,(d_tr,d_train[1]))\n",
        "    test_acc += accuracy(net,d_ts,d_test[1],(d_tr,d_train[1]),verbose=False)\n",
        "    # Done with a task\n",
        "net.train()\n",
        "print('Avg Acc: %2.5f'%(test_acc/task_count))"
      ],
      "metadata": {
        "id": "eCaHBUA0gFZg"
      },
      "execution_count": null,
      "outputs": []
    },
    {
      "cell_type": "markdown",
      "source": [
        "# Modeling\n",
        "## Technique 1: \n",
        "    - each input image is stacked with all the options and passed to the model as it is. \n",
        "    - similarly for test and train data\n",
        "## Technique 2:\n",
        "    - each input image is stacked with each option one by one and passed to the model, label assigned to each pair is 1 if the option is the correct one.\n",
        "    - benefit is that we can think of each pair as the input image and consecutive next of input image.this technique makes model focus only on one option time and ensures that properties captured make sense.\n",
        "\n",
        "## Accuracy 1:\n",
        "    - straight away accuracy where each class 0 and 1 is given equal importance.\n",
        "    - not good accuracy function since 75% of data consists of 0 and it is easier to predict 0 than 1.\n",
        "    - to handle this size imbalance, i have provided class weights to 1 and 0.\n",
        "## Accuracy 2:\n",
        "    - assigning correct answer if all the pairs corresponding to the sample have the correct label attached to it. (even if one is incorrect whole sample is assigned 0)\n",
        "    - benefit, gives a better view of ones score on the test dataset, how many mcqs model was able to select perfectly.\n",
        "\n",
        "# Models used:\n",
        "    - MAML with MLP\n",
        "    - CNP\n",
        "    - MAN\n",
        "\n",
        "# Comparison btw models:\n",
        "    - MAN was not able to converge well and understand the properties of each task or learning behind each task.\n",
        "    - CNP did well with great accuracy compared to MAN, it was able to converge faster also.\n",
        "    - MAML had similar results like CNP, understanding most of the tasks.\n",
        "# Conclusion:\n",
        "    - task is tough to solve, with the Meta learning techniques taught in class, even getting a 40+ accuracy was hard for very complex models. \n",
        "    - hardness of the task is more related to the lack of data provided to solve it than the understanding of problem.\n",
        "# Accuracy:\n",
        "  ![stats.png](data:image/png;base64,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)\n",
        "\n",
        "\n"
      ],
      "metadata": {
        "id": "OsXNdCdBBqiK"
      }
    }
  ]
}